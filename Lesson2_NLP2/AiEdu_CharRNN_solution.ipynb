{
  "nbformat": 4,
  "nbformat_minor": 0,
  "metadata": {
    "kernelspec": {
      "display_name": "Python 3",
      "name": "python3"
    },
    "language_info": {
      "codemirror_mode": {
        "name": "ipython",
        "version": 3
      },
      "file_extension": ".py",
      "mimetype": "text/x-python",
      "name": "python",
      "nbconvert_exporter": "python",
      "pygments_lexer": "ipython3",
      "version": "3.6.4"
    },
    "colab": {
      "provenance": [],
      "gpuType": "T4",
      "include_colab_link": true
    },
    "accelerator": "GPU"
  },
  "cells": [
    {
      "cell_type": "markdown",
      "metadata": {
        "id": "view-in-github",
        "colab_type": "text"
      },
      "source": [
        "<a href=\"https://colab.research.google.com/github/Murcha1990/AppliedDS_DPO_2024/blob/main/Lesson2_NLP2/AiEdu_CharRNN_solution.ipynb\" target=\"_parent\"><img src=\"https://colab.research.google.com/assets/colab-badge.svg\" alt=\"Open In Colab\"/></a>"
      ]
    },
    {
      "cell_type": "markdown",
      "metadata": {
        "id": "1W8R8WgZceEk"
      },
      "source": [
        "# Character-Level LSTM\n",
        "На этом занятии поговорим про рекуррентные нейронные сети (Recurrent Neural Networ, RNN). Мы обучим модель на тексте книги \"Анна Каренина\", после чего попробуем генерировать новый текст.\n",
        "\n",
        "**Модель сможет генерировать новый текст на основе текста \"Анны Карениной\"!**\n",
        "\n",
        "Можно посмотреть полезную [статью про RNNs](http://karpathy.github.io/2015/05/21/rnn-effectiveness/) и [реализацию в Torch](https://github.com/karpathy/char-rnn).\n",
        "\n",
        "Ообщая архитектура RNN:\n",
        "\n",
        "<img src=\"https://github.com/udacity/deep-learning-v2-pytorch/blob/master/recurrent-neural-networks/char-rnn/assets/charseq.jpeg?raw=1\" width=\"500\">"
      ]
    },
    {
      "cell_type": "code",
      "metadata": {
        "id": "sqUOE2flceEl"
      },
      "source": [
        "import numpy as np\n",
        "import torch\n",
        "import torch.nn.functional as F\n",
        "from torch import nn"
      ],
      "execution_count": null,
      "outputs": []
    },
    {
      "cell_type": "markdown",
      "metadata": {
        "id": "_wHfCDyzceEl"
      },
      "source": [
        "## Загрузим данные\n",
        "\n",
        "Загрузим текстовый файл."
      ]
    },
    {
      "cell_type": "code",
      "source": [
        "!wget !wget https://raw.githubusercontent.com/aiedu-courses/rnn_bootcamp/main/shakespeare.txt"
      ],
      "metadata": {
        "colab": {
          "base_uri": "https://localhost:8080/"
        },
        "id": "uXAxa--jPUSd",
        "outputId": "f54f492d-aaea-4602-845f-1b8612c20bb4"
      },
      "execution_count": null,
      "outputs": [
        {
          "output_type": "stream",
          "name": "stdout",
          "text": [
            "--2024-01-14 11:22:13--  http://!wget/\n",
            "Resolving !wget (!wget)... failed: Name or service not known.\n",
            "wget: unable to resolve host address ‘!wget’\n",
            "--2024-01-14 11:22:13--  https://raw.githubusercontent.com/aiedu-courses/rnn_bootcamp/main/shakespeare.txt\n",
            "Resolving raw.githubusercontent.com (raw.githubusercontent.com)... 185.199.111.133, 185.199.108.133, 185.199.109.133, ...\n",
            "Connecting to raw.githubusercontent.com (raw.githubusercontent.com)|185.199.111.133|:443... connected.\n",
            "HTTP request sent, awaiting response... 200 OK\n",
            "Length: 1115394 (1.1M) [text/plain]\n",
            "Saving to: ‘shakespeare.txt.1’\n",
            "\n",
            "shakespeare.txt.1   100%[===================>]   1.06M  --.-KB/s    in 0.02s   \n",
            "\n",
            "2024-01-14 11:22:13 (58.2 MB/s) - ‘shakespeare.txt.1’ saved [1115394/1115394]\n",
            "\n",
            "FINISHED --2024-01-14 11:22:13--\n",
            "Total wall clock time: 0.2s\n",
            "Downloaded: 1 files, 1.1M in 0.02s (58.2 MB/s)\n"
          ]
        }
      ]
    },
    {
      "cell_type": "code",
      "metadata": {
        "id": "b34kfqIOceEl"
      },
      "source": [
        "# open text file and read in data as `text`\n",
        "with open(\"shakespeare.txt\", \"r\") as f:\n",
        "    text = f.read()"
      ],
      "execution_count": null,
      "outputs": []
    },
    {
      "cell_type": "markdown",
      "metadata": {
        "id": "Jp1Ljc4mceEl"
      },
      "source": [
        "Посмотрим первые 100 символов:"
      ]
    },
    {
      "cell_type": "code",
      "metadata": {
        "id": "7VctmLQfceEl",
        "colab": {
          "base_uri": "https://localhost:8080/",
          "height": 37
        },
        "outputId": "c76b24ff-b524-41a7-94cd-c819546ce886"
      },
      "source": [
        "text[:100]"
      ],
      "execution_count": null,
      "outputs": [
        {
          "output_type": "execute_result",
          "data": {
            "text/plain": [
              "'First Citizen:\\nBefore we proceed any further, hear me speak.\\n\\nAll:\\nSpeak, speak.\\n\\nFirst Citizen:\\nYou'"
            ],
            "application/vnd.google.colaboratory.intrinsic+json": {
              "type": "string"
            }
          },
          "metadata": {},
          "execution_count": 23
        }
      ]
    },
    {
      "cell_type": "markdown",
      "metadata": {
        "id": "4iC21bopceEl"
      },
      "source": [
        "### Токенизация\n",
        "\n",
        "В ячейках ниже создадим два **словаря** для преобразования символов в целые числа и обратно. Кодирование символов как целых чисел упрощает их использование в качестве входных данных в сети."
      ]
    },
    {
      "cell_type": "code",
      "metadata": {
        "id": "tYVlmnxLceEl"
      },
      "source": [
        "# encode the text and map each character to an integer and vice versa\n",
        "\n",
        "# we create two dictionaries:\n",
        "# 1. int2char, which maps integers to characters\n",
        "# 2. char2int, which maps characters to unique integers\n",
        "chars = tuple(set(text))\n",
        "\n",
        "int2char = dict(enumerate(chars))\n",
        "char2int = {ch: ii for ii, ch in int2char.items()}\n",
        "\n",
        "# encode the text\n",
        "encoded = np.array([char2int[ch] for ch in text])"
      ],
      "execution_count": null,
      "outputs": []
    },
    {
      "cell_type": "markdown",
      "metadata": {
        "id": "oJIzwzSwceEl"
      },
      "source": [
        "Посмотрим как символы закодировались целыми числами"
      ]
    },
    {
      "cell_type": "code",
      "metadata": {
        "id": "WK1MYr_9ceEl",
        "colab": {
          "base_uri": "https://localhost:8080/"
        },
        "outputId": "d46104c7-5bbd-4ecc-fa40-41ec6acb3a94"
      },
      "source": [
        "encoded[:100]"
      ],
      "execution_count": null,
      "outputs": [
        {
          "output_type": "execute_result",
          "data": {
            "text/plain": [
              "array([23, 41, 49, 35, 37,  9, 26, 41, 37, 41, 57, 58, 44, 12, 31, 30, 58,\n",
              "       40, 13, 49, 58,  9, 63, 58,  9, 50, 49, 13,  8, 58, 58, 27,  9, 33,\n",
              "       44, 34,  9, 40, 39, 49, 37,  6, 58, 49, 21,  9,  6, 58, 33, 49,  9,\n",
              "       42, 58,  9, 35, 50, 58, 33, 18, 61, 31, 31,  7, 48, 48, 12, 31, 22,\n",
              "       50, 58, 33, 18, 21,  9, 35, 50, 58, 33, 18, 61, 31, 31, 23, 41, 49,\n",
              "       35, 37,  9, 26, 41, 37, 41, 57, 58, 44, 12, 31, 59, 13, 39])"
            ]
          },
          "metadata": {},
          "execution_count": 25
        }
      ]
    },
    {
      "cell_type": "markdown",
      "metadata": {
        "id": "azltQy-gceEl"
      },
      "source": [
        "## Предобработка данных\n",
        "\n",
        "Как можно видеть на изображении char-RNN выше, сеть ожидает **one-hot encoded** входа, что означает, что каждый символ преобразуется в целое число (через созданный словарь), а затем преобразуется в вектор-столбец, где только соответствующий ему целочисленный индекс будет иметь значение 1, а остальная часть вектора будет заполнена нулями. Давайте создадим для этого функцию."
      ]
    },
    {
      "cell_type": "code",
      "metadata": {
        "id": "OnahALhiceEl"
      },
      "source": [
        "def one_hot_encode(arr, n_labels):\n",
        "\n",
        "    # Initialize the the encoded array\n",
        "    one_hot = np.zeros((arr.size, n_labels), dtype=np.float32)\n",
        "\n",
        "    # Fill the appropriate elements with ones\n",
        "    one_hot[np.arange(one_hot.shape[0]), arr.flatten()] = 1.0\n",
        "\n",
        "    # Finally reshape it to get back to the original array\n",
        "    one_hot = one_hot.reshape((*arr.shape, n_labels))\n",
        "\n",
        "    return one_hot"
      ],
      "execution_count": null,
      "outputs": []
    },
    {
      "cell_type": "code",
      "metadata": {
        "id": "L3lTdLKfceEl",
        "colab": {
          "base_uri": "https://localhost:8080/"
        },
        "outputId": "29101b4b-1dcf-4359-d9a7-6910866dd3ce"
      },
      "source": [
        "# check that the function works as expected\n",
        "test_seq = np.array([[3, 5, 1]])\n",
        "one_hot = one_hot_encode(test_seq, 8)\n",
        "\n",
        "print(one_hot)"
      ],
      "execution_count": null,
      "outputs": [
        {
          "output_type": "stream",
          "name": "stdout",
          "text": [
            "[[[0. 0. 0. 1. 0. 0. 0. 0.]\n",
            "  [0. 0. 0. 0. 0. 1. 0. 0.]\n",
            "  [0. 1. 0. 0. 0. 0. 0. 0.]]]\n"
          ]
        }
      ]
    },
    {
      "cell_type": "markdown",
      "metadata": {
        "id": "9YyL91CuceEl"
      },
      "source": [
        "## Создаем мини-батчи (mini-batchs)\n",
        "\n",
        "\n",
        "Создатдим мини-батчи для обучения. На простом примере они будут выглядеть так:\n",
        "\n",
        "<img src=\"https://github.com/udacity/deep-learning-v2-pytorch/blob/master/recurrent-neural-networks/char-rnn/assets/sequence_batching@1x.png?raw=1\" width=500px>\n",
        "<br>\n",
        "\n",
        "Возьмем закодированные символы (переданные как параметр `arr`) и разделим их на несколько последовательностей, заданных параметром `batch_size`. Каждая из наших последовательностей будет иметь длину `seq_length`.\n",
        "\n",
        "### Создани батчей\n",
        "\n",
        "**1. Первое, что нам нужно сделать, это отбросить часть текста, чтобы у нас были только полные мини-батчи**\n",
        "\n",
        "Каждый батч содержит $ N\\times M $ символов, где $ N $ - это размер батча (количество последовательностей в батче), а $ M $ - длина `seq_length` или количество шагов в последовательности. Затем, чтобы получить общее количество батчей $ K $, которое мы можем сделать из массива `arr`, нужно разделить длину `arr` на количество символов в батче. Когда мы узнаем количество батчей, можно получить общее количество символов, которые нужно сохранить, из `arr`: $ N * M * K $.\n",
        "\n",
        "**2. После этого нам нужно разделить `arr` на $N$ батчей**\n",
        "\n",
        "Это можно сделать с помощью `arr.reshape(size)`, где `size` - это кортеж, содержащий размеры измененного массива. Мы знаем, что нам нужно $ N $ последовательностей в батче, поэтому сделаем его размером первого измерения. Для второго измерения можем использовать «-1» в качестве заполнителя, он заполнит массив соответствующими данными. После этого должен остаться массив $N\\times(M * K)$.\n",
        "\n",
        "**3. Теперь, когда у нас есть этот массив, мы можем перебирать его, чтобы получить наши мини-батчи**\n",
        "\n",
        "Идея состоит в том, что каждая партия представляет собой окно $ N\\times M $ в массиве $ N\\times (M * K) $. Для каждого последующего батча окно перемещается на `seq_length`. Мы также хотим создать как входной, так и выходной массивы. Это окно можно сделать с помощью `range`, чтобы делать шаги размером `n_steps` от $ 0 $ до `arr.shape [1]`, общее количество токенов в каждой последовательности. Таким образом, целые числа, которые получены из диапазона, всегда указывают на начало батча, и каждое окно имеет ширину `seq_length`."
      ]
    },
    {
      "cell_type": "code",
      "source": [
        "def get_batches(int_words, batch_size, seq_length):\n",
        "    \"\"\"\n",
        "    Generates batches from encoded sequence.\n",
        "    :param int_words: tensor of ints, which represents the text; shape: [batch_size, -1]\n",
        "    :param batch_size: number of sequences per batch\n",
        "    :param seq_length: number of encoded chars in a sequence\n",
        "    :return: generator of pairs (x, y); x_shape, y_shape: [batch_size, seq_length - 1]\n",
        "    \"\"\"\n",
        "    # 1. Truncate text, so there are only full batches\n",
        "    window_size = seq_length + 1\n",
        "    batch_size_total = batch_size * window_size\n",
        "    n_batches = len(int_words) // batch_size_total\n",
        "    int_words = int_words[: n_batches * batch_size_total]\n",
        "\n",
        "    # 2. Reshape into batch_size rows\n",
        "    int_words = int_words.reshape((batch_size, -1))\n",
        "\n",
        "    # 3. Iterate through the text matrix\n",
        "    for position in range(0, int_words.shape[1], window_size):\n",
        "        x = int_words[:, position : position + window_size - 1]\n",
        "        y = int_words[:, position + 1 : position + window_size]\n",
        "        yield x, y"
      ],
      "metadata": {
        "id": "FLBOH8ZQUl7B"
      },
      "execution_count": null,
      "outputs": []
    },
    {
      "cell_type": "markdown",
      "metadata": {
        "id": "s9uKOvbqceEl"
      },
      "source": [
        "### Протестируем\n",
        "\n",
        "Теперь создадим несколько наборов данных, и проверим, что происходит, когда мы создаем батчи."
      ]
    },
    {
      "cell_type": "code",
      "metadata": {
        "id": "qtKlLXi1ceEl"
      },
      "source": [
        "batches = get_batches(encoded, 8, 50)\n",
        "x, y = next(batches)"
      ],
      "execution_count": null,
      "outputs": []
    },
    {
      "cell_type": "code",
      "metadata": {
        "id": "Rg5MUTqqceEl",
        "colab": {
          "base_uri": "https://localhost:8080/"
        },
        "outputId": "1d965d58-7c8c-4999-eb05-fc60ca79a480"
      },
      "source": [
        "# printing out the first 10 items in a sequence\n",
        "print(\"x\\n\", x[:10, :10])\n",
        "print(\"\\ny\\n\", y[:10, :10])"
      ],
      "execution_count": null,
      "outputs": [
        {
          "output_type": "stream",
          "name": "stdout",
          "text": [
            "x\n",
            " [[23 41 49 35 37  9 26 41 37 41]\n",
            " [ 6  9 37  6 34  9 36 41  8 37]\n",
            " [ 9 41 35 12 31 30 58 37 37 58]\n",
            " [33 44  9 33 48 58  6 13 39 35]\n",
            " [ 8 41 33 44 12 31 60  6 33 37]\n",
            " [33 49 51 58 19 31 60 58  9 63]\n",
            " [58 48  9 33 44 27  9 14  9 18]\n",
            " [ 9 37  6 33 37  9 13 44  8 58]]\n",
            "\n",
            "y\n",
            " [[41 49 35 37  9 26 41 37 41 57]\n",
            " [ 9 37  6 34  9 36 41  8 37 13]\n",
            " [41 35 12 31 30 58 37 37 58 49]\n",
            " [44  9 33 48 58  6 13 39 35 58]\n",
            " [41 33 44 12 31 60  6 33 37  9]\n",
            " [49 51 58 19 31 60 58  9 63 41]\n",
            " [48  9 33 44 27  9 14  9 18 44]\n",
            " [37  6 33 37  9 13 44  8 58  9]]\n"
          ]
        }
      ]
    },
    {
      "cell_type": "markdown",
      "metadata": {
        "id": "R_qHIAEIceEl"
      },
      "source": [
        "Если вы правильно реализовали get_batches, результат должен выглядеть примерно так:\n",
        "```\n",
        "x\n",
        " [[25  8 60 11 45 27 28 73  1  2]\n",
        " [17  7 20 73 45  8 60 45 73 60]\n",
        " [27 20 80 73  7 28 73 60 73 65]\n",
        " [17 73 45  8 27 73 66  8 46 27]\n",
        " [73 17 60 12 73  8 27 28 73 45]\n",
        " [66 64 17 17 46  7 20 73 60 20]\n",
        " [73 76 20 20 60 73  8 60 80 73]\n",
        " [47 35 43  7 20 17 24 50 37 73]]\n",
        "\n",
        "y\n",
        " [[ 8 60 11 45 27 28 73  1  2  2]\n",
        " [ 7 20 73 45  8 60 45 73 60 45]\n",
        " [20 80 73  7 28 73 60 73 65  7]\n",
        " [73 45  8 27 73 66  8 46 27 65]\n",
        " [17 60 12 73  8 27 28 73 45 27]\n",
        " [64 17 17 46  7 20 73 60 20 80]\n",
        " [76 20 20 60 73  8 60 80 73 17]\n",
        " [35 43  7 20 17 24 50 37 73 36]]\n",
        " ```\n",
        " хотя точные цифры могут отличаться. Убедитесь, что данные сдвинуты на один шаг для `y`!!!"
      ]
    },
    {
      "cell_type": "markdown",
      "metadata": {
        "id": "Jouxv0L2ceEl"
      },
      "source": [
        "---\n",
        "## Зададим архитектуру\n",
        "\n",
        "\n",
        "<img src=\"https://github.com/udacity/deep-learning-v2-pytorch/blob/master/recurrent-neural-networks/char-rnn/assets/charRNN.png?raw=1\" width=500px>"
      ]
    },
    {
      "cell_type": "markdown",
      "metadata": {
        "id": "E7s5eRaoceEl"
      },
      "source": [
        "### Структура модели\n",
        "\n",
        "В `__init__` предлагаемая структура выглядит следующим образом:\n",
        "* Создаваём и храним необходимые словари (уже релизовано)\n",
        "* Определяем слой LSTM, который принимает в качестве параметров: размер ввода (количество символов), размер скрытого слоя `n_hidden`, количество слоев` n_layers`, вероятность drop-out'а `drop_prob` и логическое значение batch_first (True)\n",
        "* Определяем слой drop-out с помощью drop_prob\n",
        "* Определяем полносвязанный слой с параметрами: размер ввода `n_hidden` и размер выхода - количество символов\n",
        "* Наконец, инициализируем веса\n",
        "\n",
        "Обратите внимание, что некоторые параметры были названы и указаны в функции `__init__`, их нужно сохранить и использовать, выполняя что-то вроде` self.drop_prob = drop_prob`."
      ]
    },
    {
      "cell_type": "markdown",
      "metadata": {
        "id": "Plm1atCuceEl"
      },
      "source": [
        "---\n",
        "### Входы-выходы LSTM\n",
        "\n",
        "Вы можете создать [LSTM layer](https://pytorch.org/docs/stable/generated/torch.nn.LSTM.html#torch.nn.LSTM) следующим образом\n",
        "\n",
        "```python\n",
        "self.lstm = nn.LSTM(input_size, n_hidden, n_layers,\n",
        "                            dropout=drop_prob, batch_first=True)\n",
        "```\n",
        "\n",
        "где `input_siz`e - это количество символов, которые эта ячейка ожидает видеть в качестве последовательного ввода, а `n_hidden` - это количество элементов в скрытых слоях ячейки. Можно добавить drop-out, добавив параметр `dropout` с заданной вероятностью. Наконец, в функции `forward` мы можем складывать ячейки LSTM в слои, используя `.view`.\n",
        "\n",
        "Также требуется создать начальное скрытое состояние всех нулей:\n",
        "\n",
        "```python\n",
        "self.init_hidden()\n",
        "```"
      ]
    },
    {
      "cell_type": "code",
      "metadata": {
        "id": "HlTnDntHceEl",
        "colab": {
          "base_uri": "https://localhost:8080/"
        },
        "outputId": "0f699595-0637-4c84-ac5d-7fe8373cd0d9"
      },
      "source": [
        "# check if GPU is available\n",
        "train_on_gpu = torch.cuda.is_available()\n",
        "\n",
        "if train_on_gpu:\n",
        "    print(\"Training on GPU!\")\n",
        "else:\n",
        "    print(\"No GPU available, training on CPU; consider making n_epochs very small.\")"
      ],
      "execution_count": null,
      "outputs": [
        {
          "output_type": "stream",
          "name": "stdout",
          "text": [
            "Training on GPU!\n"
          ]
        }
      ]
    },
    {
      "cell_type": "code",
      "metadata": {
        "id": "VPq1EA38rBqn"
      },
      "source": [
        "class CharRNN(nn.Module):\n",
        "    def __init__(self, tokens, n_hidden=256, n_layers=2, drop_prob=0.5, lr=0.001):\n",
        "        super().__init__()\n",
        "        self.drop_prob = drop_prob\n",
        "        self.n_layers = n_layers\n",
        "        self.n_hidden = n_hidden\n",
        "        self.lr = lr\n",
        "\n",
        "        # creating character dictionaries\n",
        "        self.chars = tokens\n",
        "        self.int2char = dict(enumerate(self.chars))\n",
        "        self.char2int = {ch: ii for ii, ch in self.int2char.items()}\n",
        "\n",
        "        ## TODO: define the LSTM\n",
        "        self.lstm = nn.LSTM(\n",
        "            len(self.chars), n_hidden, n_layers, dropout=drop_prob, batch_first=True\n",
        "        )\n",
        "\n",
        "        ## TODO: define a dropout layer\n",
        "        self.dropout = nn.Dropout(drop_prob)\n",
        "\n",
        "        ## TODO: define the final, fully-connected output layer\n",
        "        self.fc = nn.Linear(n_hidden, len(self.chars))\n",
        "\n",
        "    def forward(self, x, hidden):\n",
        "        \"\"\"Forward pass through the network.\n",
        "        These inputs are x, and the hidden/cell state `hidden`.\"\"\"\n",
        "\n",
        "        ## TODO: Get the outputs and the new hidden state from the lstm\n",
        "        r_output, hidden = self.lstm(x, hidden)\n",
        "\n",
        "        ## TODO: pass through a dropout layer\n",
        "        out = self.dropout(r_output)\n",
        "\n",
        "        # Stack up LSTM outputs using view\n",
        "        # you may need to use contiguous to reshape the output\n",
        "        out = out.contiguous().view(-1, self.n_hidden)\n",
        "\n",
        "        ## TODO: put x through the fully-connected layer\n",
        "        out = self.fc(out)\n",
        "\n",
        "        # return the final output and the hidden state\n",
        "        return out, hidden\n",
        "\n",
        "    def init_hidden(self, batch_size):\n",
        "        \"\"\"Initializes hidden state\"\"\"\n",
        "        # Create two new tensors with sizes n_layers x batch_size x n_hidden,\n",
        "        # initialized to zero, for hidden state and cell state of LSTM\n",
        "        weight = next(self.parameters()).data\n",
        "\n",
        "        if train_on_gpu:\n",
        "            hidden = (\n",
        "                weight.new(self.n_layers, batch_size, self.n_hidden).zero_().cuda(),\n",
        "                weight.new(self.n_layers, batch_size, self.n_hidden).zero_().cuda(),\n",
        "            )\n",
        "        else:\n",
        "            hidden = (\n",
        "                weight.new(self.n_layers, batch_size, self.n_hidden).zero_(),\n",
        "                weight.new(self.n_layers, batch_size, self.n_hidden).zero_(),\n",
        "            )\n",
        "\n",
        "        return hidden"
      ],
      "execution_count": null,
      "outputs": []
    },
    {
      "cell_type": "markdown",
      "metadata": {
        "id": "5IrBRlEPceEl"
      },
      "source": [
        "## Обучим модель\n",
        "\n",
        "Во время обучения нужно установить количество эпох, скорость обучения и другие параметры.\n",
        "\n",
        "Используем оптимизатор Adam и кросс-энтропию, считаем loss и, как обычно, выполняем back propagation.\n",
        "\n",
        "Пара подробностей об обучении:\n",
        "> * Во время цикла мы отделяем скрытое состояние от его истории; на этот раз установив его равным новой переменной * tuple *, потому что скрытое состояние LSTM, является кортежем скрытых состояний.\n",
        "* Мы используем [`clip_grad_norm_`](https://pytorch.org/docs/stable/_modules/torch/nn/utils/clip_grad.html) чтобы избавиться от взрывающихся градиентов."
      ]
    },
    {
      "cell_type": "code",
      "metadata": {
        "id": "lv8VkRI0ceEl"
      },
      "source": [
        "def train(\n",
        "    net,\n",
        "    data,\n",
        "    epochs=10,\n",
        "    batch_size=10,\n",
        "    seq_length=50,\n",
        "    lr=0.001,\n",
        "    clip=5,\n",
        "    val_frac=0.1,\n",
        "    print_every=10,\n",
        "):\n",
        "    \"\"\"Training a network\n",
        "\n",
        "    Arguments\n",
        "    ---------\n",
        "\n",
        "    net: CharRNN network\n",
        "    data: text data to train the network\n",
        "    epochs: Number of epochs to train\n",
        "    batch_size: Number of mini-sequences per mini-batch, aka batch size\n",
        "    seq_length: Number of character steps per mini-batch\n",
        "    lr: learning rate\n",
        "    clip: gradient clipping\n",
        "    val_frac: Fraction of data to hold out for validation\n",
        "    print_every: Number of steps for printing training and validation loss\n",
        "\n",
        "    \"\"\"\n",
        "    net.train()\n",
        "\n",
        "    opt = torch.optim.Adam(net.parameters(), lr=lr)\n",
        "    criterion = nn.CrossEntropyLoss()\n",
        "\n",
        "    # create training and validation data\n",
        "    val_idx = int(len(data) * (1 - val_frac))\n",
        "    data, val_data = data[:val_idx], data[val_idx:]\n",
        "\n",
        "    if train_on_gpu:\n",
        "        net.cuda()\n",
        "\n",
        "    counter = 0\n",
        "    n_chars = len(net.chars)\n",
        "    for e in range(epochs):\n",
        "        # initialize hidden state\n",
        "        h = net.init_hidden(batch_size)\n",
        "\n",
        "        for x, y in get_batches(data, batch_size, seq_length):\n",
        "            counter += 1\n",
        "\n",
        "            # One-hot encode our data and make them Torch tensors\n",
        "            x = one_hot_encode(x, n_chars)\n",
        "            inputs, targets = torch.from_numpy(x), torch.from_numpy(y)\n",
        "\n",
        "            if train_on_gpu:\n",
        "                inputs, targets = inputs.cuda(), targets.cuda()\n",
        "\n",
        "            # Creating new variables for the hidden state, otherwise\n",
        "            # we'd backprop through the entire training history\n",
        "            h = tuple([each.data for each in h])\n",
        "\n",
        "            # zero accumulated gradients\n",
        "            net.zero_grad()\n",
        "\n",
        "            # get the output from the model\n",
        "            output, h = net(inputs, h)\n",
        "\n",
        "            # calculate the loss and perform backprop\n",
        "            loss = criterion(output, targets.view(batch_size * seq_length).long())\n",
        "            loss.backward()\n",
        "            # `clip_grad_norm` helps prevent the exploding gradient problem in RNNs / LSTMs.\n",
        "            nn.utils.clip_grad_norm_(net.parameters(), clip)\n",
        "            opt.step()\n",
        "\n",
        "            # loss stats\n",
        "            if counter % print_every == 0:\n",
        "                # Get validation loss\n",
        "                val_h = net.init_hidden(batch_size)\n",
        "                val_losses = []\n",
        "                net.eval()\n",
        "                for x, y in get_batches(val_data, batch_size, seq_length):\n",
        "                    # One-hot encode our data and make them Torch tensors\n",
        "                    x = one_hot_encode(x, n_chars)\n",
        "                    x, y = torch.from_numpy(x), torch.from_numpy(y)\n",
        "\n",
        "                    # Creating new variables for the hidden state, otherwise\n",
        "                    # we'd backprop through the entire training history\n",
        "                    val_h = tuple([each.data for each in val_h])\n",
        "\n",
        "                    inputs, targets = x, y\n",
        "                    if train_on_gpu:\n",
        "                        inputs, targets = inputs.cuda(), targets.cuda()\n",
        "\n",
        "                    output, val_h = net(inputs, val_h)\n",
        "                    val_loss = criterion(\n",
        "                        output, targets.view(batch_size * seq_length).long()\n",
        "                    )\n",
        "\n",
        "                    val_losses.append(val_loss.item())\n",
        "\n",
        "                net.train()  # reset to train mode after iterationg through validation data\n",
        "\n",
        "                print(\n",
        "                    \"Epoch: {}/{}...\".format(e + 1, epochs),\n",
        "                    \"Step: {}...\".format(counter),\n",
        "                    \"Loss: {:.4f}...\".format(loss.item()),\n",
        "                    \"Val Loss: {:.4f}\".format(np.mean(val_losses)),\n",
        "                )"
      ],
      "execution_count": null,
      "outputs": []
    },
    {
      "cell_type": "markdown",
      "metadata": {
        "id": "Gt0q4KGEceEm"
      },
      "source": [
        "## Определим модель\n",
        "\n",
        "Теперь мы можем создать модель с заданными гиперпараметрами. Определим размеры мини-батчей."
      ]
    },
    {
      "cell_type": "code",
      "metadata": {
        "id": "ykMcIloEr3G7",
        "colab": {
          "base_uri": "https://localhost:8080/"
        },
        "outputId": "49d18f0f-33f1-4f6a-be47-bab12e513b96"
      },
      "source": [
        "# define and print the net\n",
        "n_hidden = 512\n",
        "n_layers = 2\n",
        "\n",
        "net = CharRNN(chars, n_hidden, n_layers)\n",
        "print(net)"
      ],
      "execution_count": null,
      "outputs": [
        {
          "output_type": "stream",
          "name": "stdout",
          "text": [
            "CharRNN(\n",
            "  (lstm): LSTM(65, 512, num_layers=2, batch_first=True, dropout=0.5)\n",
            "  (dropout): Dropout(p=0.5, inplace=False)\n",
            "  (fc): Linear(in_features=512, out_features=65, bias=True)\n",
            ")\n"
          ]
        }
      ]
    },
    {
      "cell_type": "code",
      "source": [
        "s = 0\n",
        "\n",
        "for layer in net.parameters():\n",
        "    s += layer.numel()\n",
        "\n",
        "s"
      ],
      "metadata": {
        "colab": {
          "base_uri": "https://localhost:8080/"
        },
        "id": "vm8tau5fsoFI",
        "outputId": "305c8c08-b936-463d-eaf9-05219ccd84ec"
      },
      "execution_count": null,
      "outputs": [
        {
          "output_type": "execute_result",
          "data": {
            "text/plain": [
              "3320385"
            ]
          },
          "metadata": {},
          "execution_count": 36
        }
      ]
    },
    {
      "cell_type": "markdown",
      "metadata": {
        "id": "XHy6mECuceEm"
      },
      "source": [
        "### Установим гиперпараметры"
      ]
    },
    {
      "cell_type": "code",
      "metadata": {
        "id": "8hTkNrWEsjgI",
        "colab": {
          "base_uri": "https://localhost:8080/"
        },
        "outputId": "45dce5a9-8980-4a49-b010-6d7a5a91df82"
      },
      "source": [
        "batch_size = 128\n",
        "seq_length = 100\n",
        "n_epochs = 20  # start smaller if you are just testing initial behavior\n",
        "\n",
        "# train the model\n",
        "train(\n",
        "    net,\n",
        "    encoded,\n",
        "    epochs=n_epochs,\n",
        "    batch_size=batch_size,\n",
        "    seq_length=seq_length,\n",
        "    lr=1,\n",
        "    print_every=10,\n",
        ")"
      ],
      "execution_count": null,
      "outputs": [
        {
          "output_type": "stream",
          "name": "stdout",
          "text": [
            "Epoch: 1/20... Step: 10... Loss: 879.7095... Val Loss: 952.9646\n",
            "Epoch: 1/20... Step: 20... Loss: 2173.8604... Val Loss: 2263.5418\n",
            "Epoch: 1/20... Step: 30... Loss: 2184.7051... Val Loss: 2162.5851\n",
            "Epoch: 1/20... Step: 40... Loss: 1521.5664... Val Loss: 1393.3106\n",
            "Epoch: 1/20... Step: 50... Loss: 953.1794... Val Loss: 985.6353\n",
            "Epoch: 1/20... Step: 60... Loss: 628.0311... Val Loss: 671.9441\n",
            "Epoch: 1/20... Step: 70... Loss: 582.3876... Val Loss: 586.3158\n",
            "Epoch: 2/20... Step: 80... Loss: 376.1260... Val Loss: 372.7719\n",
            "Epoch: 2/20... Step: 90... Loss: 359.9218... Val Loss: 335.3066\n",
            "Epoch: 2/20... Step: 100... Loss: 309.0128... Val Loss: 317.7114\n",
            "Epoch: 2/20... Step: 110... Loss: 302.7938... Val Loss: 315.5639\n",
            "Epoch: 2/20... Step: 120... Loss: 307.3758... Val Loss: 274.2639\n",
            "Epoch: 2/20... Step: 130... Loss: 316.4543... Val Loss: 281.6413\n",
            "Epoch: 2/20... Step: 140... Loss: 393.9493... Val Loss: 369.6179\n",
            "Epoch: 2/20... Step: 150... Loss: 291.6541... Val Loss: 234.8034\n",
            "Epoch: 3/20... Step: 160... Loss: 360.2795... Val Loss: 339.0048\n",
            "Epoch: 3/20... Step: 170... Loss: 357.5499... Val Loss: 336.9749\n",
            "Epoch: 3/20... Step: 180... Loss: 323.5353... Val Loss: 348.6339\n",
            "Epoch: 3/20... Step: 190... Loss: 364.0889... Val Loss: 373.1478\n",
            "Epoch: 3/20... Step: 200... Loss: 349.8524... Val Loss: 356.7869\n",
            "Epoch: 3/20... Step: 210... Loss: 363.3115... Val Loss: 400.1896\n",
            "Epoch: 3/20... Step: 220... Loss: 349.1818... Val Loss: 374.2958\n",
            "Epoch: 3/20... Step: 230... Loss: 339.8154... Val Loss: 344.1417\n",
            "Epoch: 4/20... Step: 240... Loss: 293.9787... Val Loss: 352.4355\n",
            "Epoch: 4/20... Step: 250... Loss: 307.0491... Val Loss: 322.2831\n",
            "Epoch: 4/20... Step: 260... Loss: 332.2650... Val Loss: 379.7844\n",
            "Epoch: 4/20... Step: 270... Loss: 380.5710... Val Loss: 386.1272\n",
            "Epoch: 4/20... Step: 280... Loss: 353.0002... Val Loss: 345.5624\n",
            "Epoch: 4/20... Step: 290... Loss: 379.2503... Val Loss: 385.1532\n",
            "Epoch: 4/20... Step: 300... Loss: 329.8864... Val Loss: 352.2049\n",
            "Epoch: 5/20... Step: 310... Loss: 410.7633... Val Loss: 414.1388\n",
            "Epoch: 5/20... Step: 320... Loss: 374.1515... Val Loss: 402.7730\n",
            "Epoch: 5/20... Step: 330... Loss: 445.7553... Val Loss: 449.5967\n",
            "Epoch: 5/20... Step: 340... Loss: 450.6664... Val Loss: 453.2523\n",
            "Epoch: 5/20... Step: 350... Loss: 468.0490... Val Loss: 468.4211\n",
            "Epoch: 5/20... Step: 360... Loss: 372.8986... Val Loss: 374.5378\n",
            "Epoch: 5/20... Step: 370... Loss: 410.3909... Val Loss: 414.5795\n",
            "Epoch: 5/20... Step: 380... Loss: 413.1147... Val Loss: 451.6553\n",
            "Epoch: 6/20... Step: 390... Loss: 387.6449... Val Loss: 392.6450\n",
            "Epoch: 6/20... Step: 400... Loss: 432.1627... Val Loss: 444.1314\n",
            "Epoch: 6/20... Step: 410... Loss: 433.1293... Val Loss: 439.1421\n",
            "Epoch: 6/20... Step: 420... Loss: 424.1045... Val Loss: 406.4328\n",
            "Epoch: 6/20... Step: 430... Loss: 489.9055... Val Loss: 426.7487\n",
            "Epoch: 6/20... Step: 440... Loss: 429.0530... Val Loss: 458.7612\n",
            "Epoch: 6/20... Step: 450... Loss: 326.7299... Val Loss: 350.0253\n",
            "Epoch: 6/20... Step: 460... Loss: 423.4492... Val Loss: 449.3799\n",
            "Epoch: 7/20... Step: 470... Loss: 505.2836... Val Loss: 466.0857\n",
            "Epoch: 7/20... Step: 480... Loss: 450.4311... Val Loss: 441.0963\n",
            "Epoch: 7/20... Step: 490... Loss: 360.8696... Val Loss: 389.5952\n",
            "Epoch: 7/20... Step: 500... Loss: 397.6722... Val Loss: 376.5109\n",
            "Epoch: 7/20... Step: 510... Loss: 357.1705... Val Loss: 375.7494\n",
            "Epoch: 7/20... Step: 520... Loss: 427.8374... Val Loss: 433.2146\n",
            "Epoch: 7/20... Step: 530... Loss: 428.4474... Val Loss: 387.3696\n",
            "Epoch: 8/20... Step: 540... Loss: 393.4261... Val Loss: 434.9116\n",
            "Epoch: 8/20... Step: 550... Loss: 415.5362... Val Loss: 495.0387\n",
            "Epoch: 8/20... Step: 560... Loss: 461.8084... Val Loss: 508.3059\n",
            "Epoch: 8/20... Step: 570... Loss: 415.7807... Val Loss: 428.7850\n",
            "Epoch: 8/20... Step: 580... Loss: 426.1292... Val Loss: 471.6692\n",
            "Epoch: 8/20... Step: 590... Loss: 538.5895... Val Loss: 550.3241\n",
            "Epoch: 8/20... Step: 600... Loss: 394.7585... Val Loss: 413.6308\n",
            "Epoch: 8/20... Step: 610... Loss: 430.5125... Val Loss: 436.8333\n",
            "Epoch: 9/20... Step: 620... Loss: 374.6829... Val Loss: 428.4914\n",
            "Epoch: 9/20... Step: 630... Loss: 391.0887... Val Loss: 430.0031\n",
            "Epoch: 9/20... Step: 640... Loss: 388.3122... Val Loss: 357.5284\n",
            "Epoch: 9/20... Step: 650... Loss: 417.9317... Val Loss: 411.5119\n",
            "Epoch: 9/20... Step: 660... Loss: 437.5529... Val Loss: 440.2995\n",
            "Epoch: 9/20... Step: 670... Loss: 389.1996... Val Loss: 403.0945\n",
            "Epoch: 9/20... Step: 680... Loss: 368.6866... Val Loss: 395.0711\n",
            "Epoch: 9/20... Step: 690... Loss: 343.7806... Val Loss: 390.9116\n",
            "Epoch: 10/20... Step: 700... Loss: 413.1236... Val Loss: 424.5644\n",
            "Epoch: 10/20... Step: 710... Loss: 408.3052... Val Loss: 448.5206\n",
            "Epoch: 10/20... Step: 720... Loss: 507.6095... Val Loss: 533.7439\n",
            "Epoch: 10/20... Step: 730... Loss: 401.5219... Val Loss: 437.1632\n",
            "Epoch: 10/20... Step: 740... Loss: 424.0706... Val Loss: 452.3651\n",
            "Epoch: 10/20... Step: 750... Loss: 471.1504... Val Loss: 479.7568\n",
            "Epoch: 10/20... Step: 760... Loss: 336.5909... Val Loss: 356.8645\n",
            "Epoch: 10/20... Step: 770... Loss: 381.5382... Val Loss: 420.1376\n",
            "Epoch: 11/20... Step: 780... Loss: 329.6677... Val Loss: 385.8082\n",
            "Epoch: 11/20... Step: 790... Loss: 399.3464... Val Loss: 395.3390\n",
            "Epoch: 11/20... Step: 800... Loss: 473.7581... Val Loss: 503.5428\n",
            "Epoch: 11/20... Step: 810... Loss: 403.2256... Val Loss: 412.3130\n",
            "Epoch: 11/20... Step: 820... Loss: 475.7437... Val Loss: 473.0433\n",
            "Epoch: 11/20... Step: 830... Loss: 455.7066... Val Loss: 502.0271\n",
            "Epoch: 11/20... Step: 840... Loss: 442.6281... Val Loss: 438.4719\n",
            "Epoch: 12/20... Step: 850... Loss: 438.8140... Val Loss: 491.2710\n",
            "Epoch: 12/20... Step: 860... Loss: 377.8848... Val Loss: 448.5807\n",
            "Epoch: 12/20... Step: 870... Loss: 515.4162... Val Loss: 527.2184\n",
            "Epoch: 12/20... Step: 880... Loss: 431.7914... Val Loss: 482.8120\n",
            "Epoch: 12/20... Step: 890... Loss: 467.5325... Val Loss: 519.7098\n",
            "Epoch: 12/20... Step: 900... Loss: 538.7773... Val Loss: 542.3720\n",
            "Epoch: 12/20... Step: 910... Loss: 482.2384... Val Loss: 464.6912\n",
            "Epoch: 12/20... Step: 920... Loss: 388.6373... Val Loss: 370.1336\n",
            "Epoch: 13/20... Step: 930... Loss: 424.8406... Val Loss: 456.5245\n",
            "Epoch: 13/20... Step: 940... Loss: 364.4693... Val Loss: 405.1434\n",
            "Epoch: 13/20... Step: 950... Loss: 381.9945... Val Loss: 377.8122\n",
            "Epoch: 13/20... Step: 960... Loss: 412.4429... Val Loss: 357.0692\n",
            "Epoch: 13/20... Step: 970... Loss: 481.3363... Val Loss: 499.8027\n",
            "Epoch: 13/20... Step: 980... Loss: 548.4868... Val Loss: 544.1732\n",
            "Epoch: 13/20... Step: 990... Loss: 414.8831... Val Loss: 465.3487\n",
            "Epoch: 13/20... Step: 1000... Loss: 490.9763... Val Loss: 539.9190\n",
            "Epoch: 14/20... Step: 1010... Loss: 333.5571... Val Loss: 377.0439\n",
            "Epoch: 14/20... Step: 1020... Loss: 383.7272... Val Loss: 388.8500\n",
            "Epoch: 14/20... Step: 1030... Loss: 416.0198... Val Loss: 474.6102\n",
            "Epoch: 14/20... Step: 1040... Loss: 418.7323... Val Loss: 413.8910\n",
            "Epoch: 14/20... Step: 1050... Loss: 429.5526... Val Loss: 480.4692\n",
            "Epoch: 14/20... Step: 1060... Loss: 405.8111... Val Loss: 435.7671\n",
            "Epoch: 14/20... Step: 1070... Loss: 432.5885... Val Loss: 481.5395\n",
            "Epoch: 15/20... Step: 1080... Loss: 454.4799... Val Loss: 388.8171\n",
            "Epoch: 15/20... Step: 1090... Loss: 363.7460... Val Loss: 372.7271\n",
            "Epoch: 15/20... Step: 1100... Loss: 464.6662... Val Loss: 374.7319\n",
            "Epoch: 15/20... Step: 1110... Loss: 415.5359... Val Loss: 412.7037\n",
            "Epoch: 15/20... Step: 1120... Loss: 381.4163... Val Loss: 418.2619\n",
            "Epoch: 15/20... Step: 1130... Loss: 412.2534... Val Loss: 437.3012\n",
            "Epoch: 15/20... Step: 1140... Loss: 446.1777... Val Loss: 392.6642\n",
            "Epoch: 15/20... Step: 1150... Loss: 368.8416... Val Loss: 382.5552\n",
            "Epoch: 16/20... Step: 1160... Loss: 389.7487... Val Loss: 438.9028\n",
            "Epoch: 16/20... Step: 1170... Loss: 372.2399... Val Loss: 353.0996\n",
            "Epoch: 16/20... Step: 1180... Loss: 477.9790... Val Loss: 462.0983\n",
            "Epoch: 16/20... Step: 1190... Loss: 478.0348... Val Loss: 436.7250\n",
            "Epoch: 16/20... Step: 1200... Loss: 479.9039... Val Loss: 488.7914\n",
            "Epoch: 16/20... Step: 1210... Loss: 401.5910... Val Loss: 446.9445\n",
            "Epoch: 16/20... Step: 1220... Loss: 454.4276... Val Loss: 467.6803\n",
            "Epoch: 16/20... Step: 1230... Loss: 451.0016... Val Loss: 484.9403\n",
            "Epoch: 17/20... Step: 1240... Loss: 462.8712... Val Loss: 498.3498\n",
            "Epoch: 17/20... Step: 1250... Loss: 427.2781... Val Loss: 435.1212\n",
            "Epoch: 17/20... Step: 1260... Loss: 438.9031... Val Loss: 487.1842\n",
            "Epoch: 17/20... Step: 1270... Loss: 395.2509... Val Loss: 396.3648\n",
            "Epoch: 17/20... Step: 1280... Loss: 435.5613... Val Loss: 436.5686\n",
            "Epoch: 17/20... Step: 1290... Loss: 431.4854... Val Loss: 424.2985\n",
            "Epoch: 17/20... Step: 1300... Loss: 441.8698... Val Loss: 465.3090\n",
            "Epoch: 18/20... Step: 1310... Loss: 388.9213... Val Loss: 444.5515\n",
            "Epoch: 18/20... Step: 1320... Loss: 410.8278... Val Loss: 458.9050\n",
            "Epoch: 18/20... Step: 1330... Loss: 469.1506... Val Loss: 442.3950\n",
            "Epoch: 18/20... Step: 1340... Loss: 468.9350... Val Loss: 481.7771\n",
            "Epoch: 18/20... Step: 1350... Loss: 440.4585... Val Loss: 462.8804\n",
            "Epoch: 18/20... Step: 1360... Loss: 470.7668... Val Loss: 484.4000\n",
            "Epoch: 18/20... Step: 1370... Loss: 444.5705... Val Loss: 485.1690\n",
            "Epoch: 18/20... Step: 1380... Loss: 413.0423... Val Loss: 443.3160\n",
            "Epoch: 19/20... Step: 1390... Loss: 444.3774... Val Loss: 479.2721\n",
            "Epoch: 19/20... Step: 1400... Loss: 501.0256... Val Loss: 521.7859\n",
            "Epoch: 19/20... Step: 1410... Loss: 363.7813... Val Loss: 380.6818\n",
            "Epoch: 19/20... Step: 1420... Loss: 471.1678... Val Loss: 478.7742\n",
            "Epoch: 19/20... Step: 1430... Loss: 391.5480... Val Loss: 383.6600\n",
            "Epoch: 19/20... Step: 1440... Loss: 408.4726... Val Loss: 442.7685\n",
            "Epoch: 19/20... Step: 1450... Loss: 402.7561... Val Loss: 431.4619\n",
            "Epoch: 19/20... Step: 1460... Loss: 391.2881... Val Loss: 421.9128\n",
            "Epoch: 20/20... Step: 1470... Loss: 441.5195... Val Loss: 461.9391\n",
            "Epoch: 20/20... Step: 1480... Loss: 429.8153... Val Loss: 437.6543\n",
            "Epoch: 20/20... Step: 1490... Loss: 445.8482... Val Loss: 471.5293\n",
            "Epoch: 20/20... Step: 1500... Loss: 446.3950... Val Loss: 445.8319\n",
            "Epoch: 20/20... Step: 1510... Loss: 541.5499... Val Loss: 517.2295\n",
            "Epoch: 20/20... Step: 1520... Loss: 467.2977... Val Loss: 478.8567\n",
            "Epoch: 20/20... Step: 1530... Loss: 504.6466... Val Loss: 483.6816\n",
            "Epoch: 20/20... Step: 1540... Loss: 429.4093... Val Loss: 458.9381\n"
          ]
        }
      ]
    },
    {
      "cell_type": "markdown",
      "metadata": {
        "id": "ZfZxvNoDceEm"
      },
      "source": [
        "## Checkpoint\n",
        "\n",
        "После обучения сохраним модель, чтобы можно было загрузить ее позже. Здесь сохраняются параметры, необходимые для создания той же архитектуры, гиперпараметры скрытого слоя и токены."
      ]
    },
    {
      "cell_type": "code",
      "metadata": {
        "id": "q6RXl5VAceEm"
      },
      "source": [
        "# change the name, for saving multiple files\n",
        "model_name = \"rnn_x_epoch.net\"\n",
        "\n",
        "checkpoint = {\n",
        "    \"n_hidden\": net.n_hidden,\n",
        "    \"n_layers\": net.n_layers,\n",
        "    \"state_dict\": net.state_dict(),\n",
        "    \"tokens\": net.chars,\n",
        "}\n",
        "\n",
        "with open(model_name, \"wb\") as f:\n",
        "    torch.save(checkpoint, f)"
      ],
      "execution_count": null,
      "outputs": []
    },
    {
      "cell_type": "markdown",
      "metadata": {
        "id": "K2sJhx5iceEm"
      },
      "source": [
        "---\n",
        "## Делаем предсказания\n",
        "\n",
        "Теперь, когда мы обучили модель, сделаем предсказание следующих символов! Для предсказания мы передаем последний символ, и сеть предсказывает следующий символ, который мы потом передаем снова на вхол и получаем еще один предсказанный символ и так далее...\n",
        "\n",
        "Наши прогнозы основаны на категориальном распределении вероятностей по всем возможным символам. Мы можем ограничить число символов, чтобы сделать получаемый предсказанный текст более разумным, рассматривая только некоторые наиболее вероятные символы $K$. Это не позволит сети выдавать нам совершенно абсурдные прогнозы, а также позволит внести некоторый шум и случайность в выбранный текст. Узнать больше [можно здесь](https://pytorch.org/docs/stable/generated/torch.topk.html#torch.topk)."
      ]
    },
    {
      "cell_type": "code",
      "metadata": {
        "id": "QEIRW_B2ceEm"
      },
      "source": [
        "def predict(net, char, h=None, top_k=None):\n",
        "    \"\"\"Given a character, predict the next character.\n",
        "    Returns the predicted character and the hidden state.\n",
        "    \"\"\"\n",
        "\n",
        "    # tensor inputs\n",
        "    x = np.array([[net.char2int[char]]])\n",
        "    x = one_hot_encode(x, len(net.chars))\n",
        "    inputs = torch.from_numpy(x)\n",
        "\n",
        "    if train_on_gpu:\n",
        "        inputs = inputs.cuda()\n",
        "\n",
        "    # detach hidden state from history\n",
        "    h = tuple([each.data for each in h])\n",
        "    # get the output of the model\n",
        "    out, h = net(inputs, h)\n",
        "\n",
        "    # get the character probabilities\n",
        "    p = F.softmax(out, dim=1).data\n",
        "    if train_on_gpu:\n",
        "        p = p.cpu()  # move to cpu\n",
        "\n",
        "    # get top characters\n",
        "    if top_k is None:\n",
        "        top_ch = np.arange(len(net.chars))\n",
        "    else:\n",
        "        p, top_ch = p.topk(top_k)\n",
        "        top_ch = top_ch.numpy().squeeze()\n",
        "\n",
        "    # select the likely next character with some element of randomness\n",
        "    p = p.numpy().squeeze()\n",
        "    char = np.random.choice(top_ch, p=p / p.sum())\n",
        "\n",
        "    # return the encoded value of the predicted char and the hidden state\n",
        "    return net.int2char[char], h"
      ],
      "execution_count": null,
      "outputs": []
    },
    {
      "cell_type": "markdown",
      "metadata": {
        "id": "OG38j3gQceEm"
      },
      "source": [
        "### Priming и генерирование текста\n",
        "\n",
        "Нужно задать скрытое состояние, чтобы сеть не генерировала произвольные символы."
      ]
    },
    {
      "cell_type": "code",
      "metadata": {
        "id": "P9vpB5gRceEm"
      },
      "source": [
        "def sample(net, size, prime=\"The\", top_k=None):\n",
        "\n",
        "    if train_on_gpu:\n",
        "        net.cuda()\n",
        "    else:\n",
        "        net.cpu()\n",
        "\n",
        "    net.eval()  # eval mode\n",
        "\n",
        "    # First off, run through the prime characters\n",
        "    chars = [ch for ch in prime]\n",
        "    h = net.init_hidden(1)\n",
        "    for ch in prime:\n",
        "        char, h = predict(net, ch, h, top_k=top_k)\n",
        "\n",
        "    chars.append(char)\n",
        "\n",
        "    # Now pass in the previous character and get a new one\n",
        "    for ii in range(size):\n",
        "        char, h = predict(net, chars[-1], h, top_k=top_k)\n",
        "        chars.append(char)\n",
        "\n",
        "    return \"\".join(chars)"
      ],
      "execution_count": null,
      "outputs": []
    },
    {
      "cell_type": "code",
      "metadata": {
        "id": "BqmFA9eEceEm",
        "colab": {
          "base_uri": "https://localhost:8080/"
        },
        "outputId": "9c36e5bd-5f9a-4360-d91a-44877e37e471"
      },
      "source": [
        "print(sample(net, 1000, prime=\"Anna\", top_k=5))"
      ],
      "execution_count": null,
      "outputs": [
        {
          "output_type": "stream",
          "name": "stdout",
          "text": [
            "Anna.\n",
            "\n",
            "\"Why say,\" thought Stepan Arkadyevitch.\n",
            "\n",
            "\"Why, taken it! Would not let them about her.\"\n",
            "\n",
            "\"Where is the tenth is awful!\" said Vronsky, was still more straight-but her life. \"That's it,\n",
            "and there's no meant of te part,\" said the legity, stream of\n",
            "singer. \"To take the sound of more sense when the steps, and I hear you with a mere all this\n",
            "treat of\n",
            "corcurory too. That's it to make them\n",
            "impossible, and what does not change it, I'm so many more to them.......\"\n",
            "\n",
            "\"Why are you than you. He's not beginning to this stand.\" He was neven a sight of the district, as\n",
            "though all a letter would be seen her, she was said, while his window and her former strength\n",
            "they had a man, said the supper. Shim in the supper aroused, were, the preterr of the conversation of this man who was to take\n",
            "a member, whom she saw that there had been time to bad anyone they would be talking in answer. Anna still there her son, of his wife, sand in the rubble operation to spend he would have taken him,\n",
            "and that the sended o\n"
          ]
        }
      ]
    },
    {
      "cell_type": "markdown",
      "metadata": {
        "id": "942mjdQHceEm"
      },
      "source": [
        "## Loading a checkpoint"
      ]
    },
    {
      "cell_type": "code",
      "metadata": {
        "id": "Xt9ldUuSceEm",
        "colab": {
          "base_uri": "https://localhost:8080/"
        },
        "outputId": "c5f42e36-9bcd-41b6-d937-05d087d32e82"
      },
      "source": [
        "# Here we have loaded in a model that trained over 20 epochs `rnn_20_epoch.net`\n",
        "with open(\"rnn_x_epoch.net\", \"rb\") as f:\n",
        "    checkpoint = torch.load(f)\n",
        "\n",
        "loaded = CharRNN(\n",
        "    checkpoint[\"tokens\"],\n",
        "    n_hidden=checkpoint[\"n_hidden\"],\n",
        "    n_layers=checkpoint[\"n_layers\"],\n",
        ")\n",
        "loaded.load_state_dict(checkpoint[\"state_dict\"])"
      ],
      "execution_count": null,
      "outputs": [
        {
          "output_type": "execute_result",
          "data": {
            "text/plain": [
              "<All keys matched successfully>"
            ]
          },
          "metadata": {},
          "execution_count": 29
        }
      ]
    },
    {
      "cell_type": "code",
      "metadata": {
        "id": "Ut6R3zDcceEm",
        "colab": {
          "base_uri": "https://localhost:8080/"
        },
        "outputId": "c7251338-373c-4cb1-84f5-bbc5ecf8eff0"
      },
      "source": [
        "# Sample using a loaded model\n",
        "print(sample(loaded, 2000, top_k=5, prime=\"And Levin said\"))"
      ],
      "execution_count": null,
      "outputs": [
        {
          "output_type": "stream",
          "name": "stdout",
          "text": [
            "And Levin said to Vronsky in his heart.\n",
            "\n",
            "\"Yes, I want to see him. Have you, there will be something of the\n",
            "position,\" he thought, began to talk to him with the\n",
            "sungring and an insidely official chores, which he was dead, as he strange\n",
            "her eyes.\n",
            "\n",
            "There was a proprising at\n",
            "all timidle. And\n",
            "at his horses she felt something but he\n",
            "could not take them. At a learned, were taking a conversation with his winder, and was a little. The mother were contemptuously as the dream in his shoulders, he wanted.\n",
            "\n",
            "Stepan Arkadyevitch talked about that the wintow and saw the\n",
            "staid, and that she was delightful to see her,\n",
            "which she could\n",
            "not\n",
            "see him and so as to say to said. The porter, this stream of the sungen them over with hin sposts and he had no compresent, they was the secrets of\n",
            "passing and decided by talk of the same,\n",
            "and so as to do it was not been from the possession as to be thinking of the carriage.\n",
            "\n",
            "\"And what am I show,\" said Levin to himself. The convistion of the same wife and asked his brother would sake the\n",
            "children, all the trous as\n",
            "interested that the crue and as this peasants only a such an offering a class as the same his face, her sons, the mandel of his sour. The such\n",
            "cares, they\n",
            "were nice talking times. But in a third way--husband,\n",
            "the same work, at it with his weak one there too sent to him, had attached any sour, was not in the matter, and she was not beginning. But the part in his clitstinic compenions was the princess\n",
            "so is till that who cauled that as though the\n",
            "presented hairs were thinking of the doctor shout, but at that house was being brother of\n",
            "him on\n",
            "what he had the strength\n",
            "with his bottle of the crask and at the\n",
            "carriage, and still shothed to be\n",
            "suddenly a great shuller, that then all over it was not telling herself. She sat down\n",
            "a stand and saw something to think of the secret, which was not\n",
            "beginning, and with this\n",
            "first moment in a single point in the parert and setting off it.\n",
            "\n",
            "He had not been fond of his sisser. And the\n",
            "service on his wife, and they were said\n"
          ]
        }
      ]
    },
    {
      "cell_type": "markdown",
      "metadata": {
        "id": "7rhp9qC8neCk"
      },
      "source": [
        "### Полезные ссылки:\n",
        "\n",
        "\n",
        "*   [Блог-пост Christopher'а Olah'а по LSTM](https://colah.github.io/posts/2015-08-Understanding-LSTMs/)"
      ]
    }
  ]
}